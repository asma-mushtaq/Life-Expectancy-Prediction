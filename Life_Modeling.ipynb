{
  "nbformat": 4,
  "nbformat_minor": 0,
  "metadata": {
    "colab": {
      "provenance": []
    },
    "kernelspec": {
      "name": "python3",
      "display_name": "Python 3"
    },
    "language_info": {
      "name": "python"
    }
  },
  "cells": [
    {
      "cell_type": "code",
      "source": [
        "import pandas as pd\n",
        "import numpy as np\n",
        "import matplotlib.pyplot as plt\n",
        "import seaborn as sns"
      ],
      "metadata": {
        "id": "OcWrQmWd_duL"
      },
      "execution_count": 1,
      "outputs": []
    },
    {
      "cell_type": "code",
      "source": [
        "from sklearn.model_selection import train_test_split\n",
        "from sklearn.linear_model import LinearRegression\n",
        "from sklearn.metrics import mean_squared_error, r2_score\n",
        "from sklearn.linear_model import Lasso\n",
        "from sklearn.model_selection import GridSearchCV"
        "from sklearn.model_selection import RandomizedSearchCV"
      ],
      "metadata": {
        "id": "w__UUPylgdtp"
      },
      "execution_count": 2,
      "outputs": []
    },
    {
      "cell_type": "code",
      "source": [
        "from sklearn.ensemble import RandomForestRegressor\n",
        "from sklearn.metrics import mean_squared_error, r2_score"
      ],
      "metadata": {
        "id": "wZUuLDYTj0-v"
      },
      "execution_count": 3,
      "outputs": []
    },
    {
      "cell_type": "code",
      "source": [
        "from xgboost.sklearn import XGBRegressor"
      ],
      "metadata": {
        "id": "eIxMDIbVlgl4"
      },
      "execution_count": 4,
      "outputs": []
    },
    {
      "cell_type": "code",
      "execution_count": 5,
      "metadata": {
        "id": "WuyHzV3J_Bku"
      },
      "outputs": [],
      "source": [
        "#loading the datafile as a csv\n",
        "file_id = 'https://drive.google.com/uc?id=1ncNWEOfOmPa-hAQCNz1H75Mn5ZGrakcf'\n",
        "data = pd.read_csv(file_id)"
      ]
    },
    {
      "cell_type": "code",
      "source": [
        "data.head(3) #index needs changing"
      ],
      "metadata": {
        "colab": {
          "base_uri": "https://localhost:8080/",
          "height": 210
        },
        "id": "5-cHVfKG_iSi",
        "outputId": "56a15b48-da45-4d89-feeb-77906100eb88"
      },
      "execution_count": 6,
      "outputs": [
        {
          "output_type": "execute_result",
          "data": {
            "text/plain": [
              "          name       gdp  gdp_per_capita  gdp_growth  fertility  \\\n",
              "0  Afghanistan -0.233153       -0.595869   -1.578889   1.485904   \n",
              "1      Albania -0.235986       -0.418838    0.254261  -0.836024   \n",
              "2      Algeria -0.153553       -0.460865   -0.599102   0.247543   \n",
              "\n",
              "   infant_mortality  sex_ratio  population  pop_growth  pop_density  ...  \\\n",
              "0          1.486176   0.145774   -0.027865    1.100765    -0.143343  ...   \n",
              "1         -0.681715   0.068196   -0.263291   -1.220468    -0.121318  ...   \n",
              "2         -0.026883  -0.004818    0.004285    0.654374    -0.163329  ...   \n",
              "\n",
              "   region_Northern Europe  region_Oceania  region_South America  \\\n",
              "0                       0               0                     0   \n",
              "1                       0               0                     0   \n",
              "2                       0               0                     0   \n",
              "\n",
              "   region_South-Eastern Asia  region_Southern Africa  region_Southern Asia  \\\n",
              "0                          0                       0                     1   \n",
              "1                          0                       0                     0   \n",
              "2                          0                       0                     0   \n",
              "\n",
              "   region_Southern Europe  region_Western Africa  region_Western Asia  \\\n",
              "0                       0                      0                    0   \n",
              "1                       1                      0                    0   \n",
              "2                       0                      0                    0   \n",
              "\n",
              "   region_Western Europe  \n",
              "0                      0  \n",
              "1                      0  \n",
              "2                      0  \n",
              "\n",
              "[3 rows x 48 columns]"
            ],
            "text/html": [
              "\n",
              "  <div id=\"df-b8681737-3cff-49c2-96d0-1a91f6cda278\" class=\"colab-df-container\">\n",
              "    <div>\n",
              "<style scoped>\n",
              "    .dataframe tbody tr th:only-of-type {\n",
              "        vertical-align: middle;\n",
              "    }\n",
              "\n",
              "    .dataframe tbody tr th {\n",
              "        vertical-align: top;\n",
              "    }\n",
              "\n",
              "    .dataframe thead th {\n",
              "        text-align: right;\n",
              "    }\n",
              "</style>\n",
              "<table border=\"1\" class=\"dataframe\">\n",
              "  <thead>\n",
              "    <tr style=\"text-align: right;\">\n",
              "      <th></th>\n",
              "      <th>name</th>\n",
              "      <th>gdp</th>\n",
              "      <th>gdp_per_capita</th>\n",
              "      <th>gdp_growth</th>\n",
              "      <th>fertility</th>\n",
              "      <th>infant_mortality</th>\n",
              "      <th>sex_ratio</th>\n",
              "      <th>population</th>\n",
              "      <th>pop_growth</th>\n",
              "      <th>pop_density</th>\n",
              "      <th>...</th>\n",
              "      <th>region_Northern Europe</th>\n",
              "      <th>region_Oceania</th>\n",
              "      <th>region_South America</th>\n",
              "      <th>region_South-Eastern Asia</th>\n",
              "      <th>region_Southern Africa</th>\n",
              "      <th>region_Southern Asia</th>\n",
              "      <th>region_Southern Europe</th>\n",
              "      <th>region_Western Africa</th>\n",
              "      <th>region_Western Asia</th>\n",
              "      <th>region_Western Europe</th>\n",
              "    </tr>\n",
              "  </thead>\n",
              "  <tbody>\n",
              "    <tr>\n",
              "      <th>0</th>\n",
              "      <td>Afghanistan</td>\n",
              "      <td>-0.233153</td>\n",
              "      <td>-0.595869</td>\n",
              "      <td>-1.578889</td>\n",
              "      <td>1.485904</td>\n",
              "      <td>1.486176</td>\n",
              "      <td>0.145774</td>\n",
              "      <td>-0.027865</td>\n",
              "      <td>1.100765</td>\n",
              "      <td>-0.143343</td>\n",
              "      <td>...</td>\n",
              "      <td>0</td>\n",
              "      <td>0</td>\n",
              "      <td>0</td>\n",
              "      <td>0</td>\n",
              "      <td>0</td>\n",
              "      <td>1</td>\n",
              "      <td>0</td>\n",
              "      <td>0</td>\n",
              "      <td>0</td>\n",
              "      <td>0</td>\n",
              "    </tr>\n",
              "    <tr>\n",
              "      <th>1</th>\n",
              "      <td>Albania</td>\n",
              "      <td>-0.235986</td>\n",
              "      <td>-0.418838</td>\n",
              "      <td>0.254261</td>\n",
              "      <td>-0.836024</td>\n",
              "      <td>-0.681715</td>\n",
              "      <td>0.068196</td>\n",
              "      <td>-0.263291</td>\n",
              "      <td>-1.220468</td>\n",
              "      <td>-0.121318</td>\n",
              "      <td>...</td>\n",
              "      <td>0</td>\n",
              "      <td>0</td>\n",
              "      <td>0</td>\n",
              "      <td>0</td>\n",
              "      <td>0</td>\n",
              "      <td>0</td>\n",
              "      <td>1</td>\n",
              "      <td>0</td>\n",
              "      <td>0</td>\n",
              "      <td>0</td>\n",
              "    </tr>\n",
              "    <tr>\n",
              "      <th>2</th>\n",
              "      <td>Algeria</td>\n",
              "      <td>-0.153553</td>\n",
              "      <td>-0.460865</td>\n",
              "      <td>-0.599102</td>\n",
              "      <td>0.247543</td>\n",
              "      <td>-0.026883</td>\n",
              "      <td>-0.004818</td>\n",
              "      <td>0.004285</td>\n",
              "      <td>0.654374</td>\n",
              "      <td>-0.163329</td>\n",
              "      <td>...</td>\n",
              "      <td>0</td>\n",
              "      <td>0</td>\n",
              "      <td>0</td>\n",
              "      <td>0</td>\n",
              "      <td>0</td>\n",
              "      <td>0</td>\n",
              "      <td>0</td>\n",
              "      <td>0</td>\n",
              "      <td>0</td>\n",
              "      <td>0</td>\n",
              "    </tr>\n",
              "  </tbody>\n",
              "</table>\n",
              "<p>3 rows × 48 columns</p>\n",
              "</div>\n",
              "    <div class=\"colab-df-buttons\">\n",
              "\n",
              "  <div class=\"colab-df-container\">\n",
              "    <button class=\"colab-df-convert\" onclick=\"convertToInteractive('df-b8681737-3cff-49c2-96d0-1a91f6cda278')\"\n",
              "            title=\"Convert this dataframe to an interactive table.\"\n",
              "            style=\"display:none;\">\n",
              "\n",
              "  <svg xmlns=\"http://www.w3.org/2000/svg\" height=\"24px\" viewBox=\"0 -960 960 960\">\n",
              "    <path d=\"M120-120v-720h720v720H120Zm60-500h600v-160H180v160Zm220 220h160v-160H400v160Zm0 220h160v-160H400v160ZM180-400h160v-160H180v160Zm440 0h160v-160H620v160ZM180-180h160v-160H180v160Zm440 0h160v-160H620v160Z\"/>\n",
              "  </svg>\n",
              "    </button>\n",
              "\n",
              "  <style>\n",
              "    .colab-df-container {\n",
              "      display:flex;\n",
              "      gap: 12px;\n",
              "    }\n",
              "\n",
              "    .colab-df-convert {\n",
              "      background-color: #E8F0FE;\n",
              "      border: none;\n",
              "      border-radius: 50%;\n",
              "      cursor: pointer;\n",
              "      display: none;\n",
              "      fill: #1967D2;\n",
              "      height: 32px;\n",
              "      padding: 0 0 0 0;\n",
              "      width: 32px;\n",
              "    }\n",
              "\n",
              "    .colab-df-convert:hover {\n",
              "      background-color: #E2EBFA;\n",
              "      box-shadow: 0px 1px 2px rgba(60, 64, 67, 0.3), 0px 1px 3px 1px rgba(60, 64, 67, 0.15);\n",
              "      fill: #174EA6;\n",
              "    }\n",
              "\n",
              "    .colab-df-buttons div {\n",
              "      margin-bottom: 4px;\n",
              "    }\n",
              "\n",
              "    [theme=dark] .colab-df-convert {\n",
              "      background-color: #3B4455;\n",
              "      fill: #D2E3FC;\n",
              "    }\n",
              "\n",
              "    [theme=dark] .colab-df-convert:hover {\n",
              "      background-color: #434B5C;\n",
              "      box-shadow: 0px 1px 3px 1px rgba(0, 0, 0, 0.15);\n",
              "      filter: drop-shadow(0px 1px 2px rgba(0, 0, 0, 0.3));\n",
              "      fill: #FFFFFF;\n",
              "    }\n",
              "  </style>\n",
              "\n",
              "    <script>\n",
              "      const buttonEl =\n",
              "        document.querySelector('#df-b8681737-3cff-49c2-96d0-1a91f6cda278 button.colab-df-convert');\n",
              "      buttonEl.style.display =\n",
              "        google.colab.kernel.accessAllowed ? 'block' : 'none';\n",
              "\n",
              "      async function convertToInteractive(key) {\n",
              "        const element = document.querySelector('#df-b8681737-3cff-49c2-96d0-1a91f6cda278');\n",
              "        const dataTable =\n",
              "          await google.colab.kernel.invokeFunction('convertToInteractive',\n",
              "                                                    [key], {});\n",
              "        if (!dataTable) return;\n",
              "\n",
              "        const docLinkHtml = 'Like what you see? Visit the ' +\n",
              "          '<a target=\"_blank\" href=https://colab.research.google.com/notebooks/data_table.ipynb>data table notebook</a>'\n",
              "          + ' to learn more about interactive tables.';\n",
              "        element.innerHTML = '';\n",
              "        dataTable['output_type'] = 'display_data';\n",
              "        await google.colab.output.renderOutput(dataTable, element);\n",
              "        const docLink = document.createElement('div');\n",
              "        docLink.innerHTML = docLinkHtml;\n",
              "        element.appendChild(docLink);\n",
              "      }\n",
              "    </script>\n",
              "  </div>\n",
              "\n",
              "\n",
              "<div id=\"df-538f8a92-9f45-4443-9f53-205335a0cb97\">\n",
              "  <button class=\"colab-df-quickchart\" onclick=\"quickchart('df-538f8a92-9f45-4443-9f53-205335a0cb97')\"\n",
              "            title=\"Suggest charts\"\n",
              "            style=\"display:none;\">\n",
              "\n",
              "<svg xmlns=\"http://www.w3.org/2000/svg\" height=\"24px\"viewBox=\"0 0 24 24\"\n",
              "     width=\"24px\">\n",
              "    <g>\n",
              "        <path d=\"M19 3H5c-1.1 0-2 .9-2 2v14c0 1.1.9 2 2 2h14c1.1 0 2-.9 2-2V5c0-1.1-.9-2-2-2zM9 17H7v-7h2v7zm4 0h-2V7h2v10zm4 0h-2v-4h2v4z\"/>\n",
              "    </g>\n",
              "</svg>\n",
              "  </button>\n",
              "\n",
              "<style>\n",
              "  .colab-df-quickchart {\n",
              "      --bg-color: #E8F0FE;\n",
              "      --fill-color: #1967D2;\n",
              "      --hover-bg-color: #E2EBFA;\n",
              "      --hover-fill-color: #174EA6;\n",
              "      --disabled-fill-color: #AAA;\n",
              "      --disabled-bg-color: #DDD;\n",
              "  }\n",
              "\n",
              "  [theme=dark] .colab-df-quickchart {\n",
              "      --bg-color: #3B4455;\n",
              "      --fill-color: #D2E3FC;\n",
              "      --hover-bg-color: #434B5C;\n",
              "      --hover-fill-color: #FFFFFF;\n",
              "      --disabled-bg-color: #3B4455;\n",
              "      --disabled-fill-color: #666;\n",
              "  }\n",
              "\n",
              "  .colab-df-quickchart {\n",
              "    background-color: var(--bg-color);\n",
              "    border: none;\n",
              "    border-radius: 50%;\n",
              "    cursor: pointer;\n",
              "    display: none;\n",
              "    fill: var(--fill-color);\n",
              "    height: 32px;\n",
              "    padding: 0;\n",
              "    width: 32px;\n",
              "  }\n",
              "\n",
              "  .colab-df-quickchart:hover {\n",
              "    background-color: var(--hover-bg-color);\n",
              "    box-shadow: 0 1px 2px rgba(60, 64, 67, 0.3), 0 1px 3px 1px rgba(60, 64, 67, 0.15);\n",
              "    fill: var(--button-hover-fill-color);\n",
              "  }\n",
              "\n",
              "  .colab-df-quickchart-complete:disabled,\n",
              "  .colab-df-quickchart-complete:disabled:hover {\n",
              "    background-color: var(--disabled-bg-color);\n",
              "    fill: var(--disabled-fill-color);\n",
              "    box-shadow: none;\n",
              "  }\n",
              "\n",
              "  .colab-df-spinner {\n",
              "    border: 2px solid var(--fill-color);\n",
              "    border-color: transparent;\n",
              "    border-bottom-color: var(--fill-color);\n",
              "    animation:\n",
              "      spin 1s steps(1) infinite;\n",
              "  }\n",
              "\n",
              "  @keyframes spin {\n",
              "    0% {\n",
              "      border-color: transparent;\n",
              "      border-bottom-color: var(--fill-color);\n",
              "      border-left-color: var(--fill-color);\n",
              "    }\n",
              "    20% {\n",
              "      border-color: transparent;\n",
              "      border-left-color: var(--fill-color);\n",
              "      border-top-color: var(--fill-color);\n",
              "    }\n",
              "    30% {\n",
              "      border-color: transparent;\n",
              "      border-left-color: var(--fill-color);\n",
              "      border-top-color: var(--fill-color);\n",
              "      border-right-color: var(--fill-color);\n",
              "    }\n",
              "    40% {\n",
              "      border-color: transparent;\n",
              "      border-right-color: var(--fill-color);\n",
              "      border-top-color: var(--fill-color);\n",
              "    }\n",
              "    60% {\n",
              "      border-color: transparent;\n",
              "      border-right-color: var(--fill-color);\n",
              "    }\n",
              "    80% {\n",
              "      border-color: transparent;\n",
              "      border-right-color: var(--fill-color);\n",
              "      border-bottom-color: var(--fill-color);\n",
              "    }\n",
              "    90% {\n",
              "      border-color: transparent;\n",
              "      border-bottom-color: var(--fill-color);\n",
              "    }\n",
              "  }\n",
              "</style>\n",
              "\n",
              "  <script>\n",
              "    async function quickchart(key) {\n",
              "      const quickchartButtonEl =\n",
              "        document.querySelector('#' + key + ' button');\n",
              "      quickchartButtonEl.disabled = true;  // To prevent multiple clicks.\n",
              "      quickchartButtonEl.classList.add('colab-df-spinner');\n",
              "      try {\n",
              "        const charts = await google.colab.kernel.invokeFunction(\n",
              "            'suggestCharts', [key], {});\n",
              "      } catch (error) {\n",
              "        console.error('Error during call to suggestCharts:', error);\n",
              "      }\n",
              "      quickchartButtonEl.classList.remove('colab-df-spinner');\n",
              "      quickchartButtonEl.classList.add('colab-df-quickchart-complete');\n",
              "    }\n",
              "    (() => {\n",
              "      let quickchartButtonEl =\n",
              "        document.querySelector('#df-538f8a92-9f45-4443-9f53-205335a0cb97 button');\n",
              "      quickchartButtonEl.style.display =\n",
              "        google.colab.kernel.accessAllowed ? 'block' : 'none';\n",
              "    })();\n",
              "  </script>\n",
              "</div>\n",
              "\n",
              "    </div>\n",
              "  </div>\n"
            ],
            "application/vnd.google.colaboratory.intrinsic+json": {
              "type": "dataframe",
              "variable_name": "data"
            }
          },
          "metadata": {},
          "execution_count": 6
        }
      ]
    },
    {
      "cell_type": "code",
      "source": [
        "data.set_index('name', inplace=True)\n",
        "data.head(3)"
      ],
      "metadata": {
        "colab": {
          "base_uri": "https://localhost:8080/",
          "height": 241
        },
        "id": "dQqdKYu4APoo",
        "outputId": "7fec45d7-8abd-4936-ae97-b080784c5995"
      },
      "execution_count": 7,
      "outputs": [
        {
          "output_type": "execute_result",
          "data": {
            "text/plain": [
              "                  gdp  gdp_per_capita  gdp_growth  fertility  \\\n",
              "name                                                           \n",
              "Afghanistan -0.233153       -0.595869   -1.578889   1.485904   \n",
              "Albania     -0.235986       -0.418838    0.254261  -0.836024   \n",
              "Algeria     -0.153553       -0.460865   -0.599102   0.247543   \n",
              "\n",
              "             infant_mortality  sex_ratio  population  pop_growth  pop_density  \\\n",
              "name                                                                            \n",
              "Afghanistan          1.486176   0.145774   -0.027865    1.100765    -0.143343   \n",
              "Albania             -0.681715   0.068196   -0.263291   -1.220468    -0.121318   \n",
              "Algeria             -0.026883  -0.004818    0.004285    0.654374    -0.163329   \n",
              "\n",
              "             urban_population  ...  region_Northern Europe  region_Oceania  \\\n",
              "name                           ...                                           \n",
              "Afghanistan         -1.509992  ...                       0               0   \n",
              "Albania              0.064323  ...                       0               0   \n",
              "Algeria              0.597989  ...                       0               0   \n",
              "\n",
              "             region_South America  region_South-Eastern Asia  \\\n",
              "name                                                           \n",
              "Afghanistan                     0                          0   \n",
              "Albania                         0                          0   \n",
              "Algeria                         0                          0   \n",
              "\n",
              "             region_Southern Africa  region_Southern Asia  \\\n",
              "name                                                        \n",
              "Afghanistan                       0                     1   \n",
              "Albania                           0                     0   \n",
              "Algeria                           0                     0   \n",
              "\n",
              "             region_Southern Europe  region_Western Africa  \\\n",
              "name                                                         \n",
              "Afghanistan                       0                      0   \n",
              "Albania                           1                      0   \n",
              "Algeria                           0                      0   \n",
              "\n",
              "             region_Western Asia  region_Western Europe  \n",
              "name                                                     \n",
              "Afghanistan                    0                      0  \n",
              "Albania                        0                      0  \n",
              "Algeria                        0                      0  \n",
              "\n",
              "[3 rows x 47 columns]"
            ],
            "text/html": [
              "\n",
              "  <div id=\"df-09525709-52c4-4391-8c5a-8a07a7a245a1\" class=\"colab-df-container\">\n",
              "    <div>\n",
              "<style scoped>\n",
              "    .dataframe tbody tr th:only-of-type {\n",
              "        vertical-align: middle;\n",
              "    }\n",
              "\n",
              "    .dataframe tbody tr th {\n",
              "        vertical-align: top;\n",
              "    }\n",
              "\n",
              "    .dataframe thead th {\n",
              "        text-align: right;\n",
              "    }\n",
              "</style>\n",
              "<table border=\"1\" class=\"dataframe\">\n",
              "  <thead>\n",
              "    <tr style=\"text-align: right;\">\n",
              "      <th></th>\n",
              "      <th>gdp</th>\n",
              "      <th>gdp_per_capita</th>\n",
              "      <th>gdp_growth</th>\n",
              "      <th>fertility</th>\n",
              "      <th>infant_mortality</th>\n",
              "      <th>sex_ratio</th>\n",
              "      <th>population</th>\n",
              "      <th>pop_growth</th>\n",
              "      <th>pop_density</th>\n",
              "      <th>urban_population</th>\n",
              "      <th>...</th>\n",
              "      <th>region_Northern Europe</th>\n",
              "      <th>region_Oceania</th>\n",
              "      <th>region_South America</th>\n",
              "      <th>region_South-Eastern Asia</th>\n",
              "      <th>region_Southern Africa</th>\n",
              "      <th>region_Southern Asia</th>\n",
              "      <th>region_Southern Europe</th>\n",
              "      <th>region_Western Africa</th>\n",
              "      <th>region_Western Asia</th>\n",
              "      <th>region_Western Europe</th>\n",
              "    </tr>\n",
              "    <tr>\n",
              "      <th>name</th>\n",
              "      <th></th>\n",
              "      <th></th>\n",
              "      <th></th>\n",
              "      <th></th>\n",
              "      <th></th>\n",
              "      <th></th>\n",
              "      <th></th>\n",
              "      <th></th>\n",
              "      <th></th>\n",
              "      <th></th>\n",
              "      <th></th>\n",
              "      <th></th>\n",
              "      <th></th>\n",
              "      <th></th>\n",
              "      <th></th>\n",
              "      <th></th>\n",
              "      <th></th>\n",
              "      <th></th>\n",
              "      <th></th>\n",
              "      <th></th>\n",
              "      <th></th>\n",
              "    </tr>\n",
              "  </thead>\n",
              "  <tbody>\n",
              "    <tr>\n",
              "      <th>Afghanistan</th>\n",
              "      <td>-0.233153</td>\n",
              "      <td>-0.595869</td>\n",
              "      <td>-1.578889</td>\n",
              "      <td>1.485904</td>\n",
              "      <td>1.486176</td>\n",
              "      <td>0.145774</td>\n",
              "      <td>-0.027865</td>\n",
              "      <td>1.100765</td>\n",
              "      <td>-0.143343</td>\n",
              "      <td>-1.509992</td>\n",
              "      <td>...</td>\n",
              "      <td>0</td>\n",
              "      <td>0</td>\n",
              "      <td>0</td>\n",
              "      <td>0</td>\n",
              "      <td>0</td>\n",
              "      <td>1</td>\n",
              "      <td>0</td>\n",
              "      <td>0</td>\n",
              "      <td>0</td>\n",
              "      <td>0</td>\n",
              "    </tr>\n",
              "    <tr>\n",
              "      <th>Albania</th>\n",
              "      <td>-0.235986</td>\n",
              "      <td>-0.418838</td>\n",
              "      <td>0.254261</td>\n",
              "      <td>-0.836024</td>\n",
              "      <td>-0.681715</td>\n",
              "      <td>0.068196</td>\n",
              "      <td>-0.263291</td>\n",
              "      <td>-1.220468</td>\n",
              "      <td>-0.121318</td>\n",
              "      <td>0.064323</td>\n",
              "      <td>...</td>\n",
              "      <td>0</td>\n",
              "      <td>0</td>\n",
              "      <td>0</td>\n",
              "      <td>0</td>\n",
              "      <td>0</td>\n",
              "      <td>0</td>\n",
              "      <td>1</td>\n",
              "      <td>0</td>\n",
              "      <td>0</td>\n",
              "      <td>0</td>\n",
              "    </tr>\n",
              "    <tr>\n",
              "      <th>Algeria</th>\n",
              "      <td>-0.153553</td>\n",
              "      <td>-0.460865</td>\n",
              "      <td>-0.599102</td>\n",
              "      <td>0.247543</td>\n",
              "      <td>-0.026883</td>\n",
              "      <td>-0.004818</td>\n",
              "      <td>0.004285</td>\n",
              "      <td>0.654374</td>\n",
              "      <td>-0.163329</td>\n",
              "      <td>0.597989</td>\n",
              "      <td>...</td>\n",
              "      <td>0</td>\n",
              "      <td>0</td>\n",
              "      <td>0</td>\n",
              "      <td>0</td>\n",
              "      <td>0</td>\n",
              "      <td>0</td>\n",
              "      <td>0</td>\n",
              "      <td>0</td>\n",
              "      <td>0</td>\n",
              "      <td>0</td>\n",
              "    </tr>\n",
              "  </tbody>\n",
              "</table>\n",
              "<p>3 rows × 47 columns</p>\n",
              "</div>\n",
              "    <div class=\"colab-df-buttons\">\n",
              "\n",
              "  <div class=\"colab-df-container\">\n",
              "    <button class=\"colab-df-convert\" onclick=\"convertToInteractive('df-09525709-52c4-4391-8c5a-8a07a7a245a1')\"\n",
              "            title=\"Convert this dataframe to an interactive table.\"\n",
              "            style=\"display:none;\">\n",
              "\n",
              "  <svg xmlns=\"http://www.w3.org/2000/svg\" height=\"24px\" viewBox=\"0 -960 960 960\">\n",
              "    <path d=\"M120-120v-720h720v720H120Zm60-500h600v-160H180v160Zm220 220h160v-160H400v160Zm0 220h160v-160H400v160ZM180-400h160v-160H180v160Zm440 0h160v-160H620v160ZM180-180h160v-160H180v160Zm440 0h160v-160H620v160Z\"/>\n",
              "  </svg>\n",
              "    </button>\n",
              "\n",
              "  <style>\n",
              "    .colab-df-container {\n",
              "      display:flex;\n",
              "      gap: 12px;\n",
              "    }\n",
              "\n",
              "    .colab-df-convert {\n",
              "      background-color: #E8F0FE;\n",
              "      border: none;\n",
              "      border-radius: 50%;\n",
              "      cursor: pointer;\n",
              "      display: none;\n",
              "      fill: #1967D2;\n",
              "      height: 32px;\n",
              "      padding: 0 0 0 0;\n",
              "      width: 32px;\n",
              "    }\n",
              "\n",
              "    .colab-df-convert:hover {\n",
              "      background-color: #E2EBFA;\n",
              "      box-shadow: 0px 1px 2px rgba(60, 64, 67, 0.3), 0px 1px 3px 1px rgba(60, 64, 67, 0.15);\n",
              "      fill: #174EA6;\n",
              "    }\n",
              "\n",
              "    .colab-df-buttons div {\n",
              "      margin-bottom: 4px;\n",
              "    }\n",
              "\n",
              "    [theme=dark] .colab-df-convert {\n",
              "      background-color: #3B4455;\n",
              "      fill: #D2E3FC;\n",
              "    }\n",
              "\n",
              "    [theme=dark] .colab-df-convert:hover {\n",
              "      background-color: #434B5C;\n",
              "      box-shadow: 0px 1px 3px 1px rgba(0, 0, 0, 0.15);\n",
              "      filter: drop-shadow(0px 1px 2px rgba(0, 0, 0, 0.3));\n",
              "      fill: #FFFFFF;\n",
              "    }\n",
              "  </style>\n",
              "\n",
              "    <script>\n",
              "      const buttonEl =\n",
              "        document.querySelector('#df-09525709-52c4-4391-8c5a-8a07a7a245a1 button.colab-df-convert');\n",
              "      buttonEl.style.display =\n",
              "        google.colab.kernel.accessAllowed ? 'block' : 'none';\n",
              "\n",
              "      async function convertToInteractive(key) {\n",
              "        const element = document.querySelector('#df-09525709-52c4-4391-8c5a-8a07a7a245a1');\n",
              "        const dataTable =\n",
              "          await google.colab.kernel.invokeFunction('convertToInteractive',\n",
              "                                                    [key], {});\n",
              "        if (!dataTable) return;\n",
              "\n",
              "        const docLinkHtml = 'Like what you see? Visit the ' +\n",
              "          '<a target=\"_blank\" href=https://colab.research.google.com/notebooks/data_table.ipynb>data table notebook</a>'\n",
              "          + ' to learn more about interactive tables.';\n",
              "        element.innerHTML = '';\n",
              "        dataTable['output_type'] = 'display_data';\n",
              "        await google.colab.output.renderOutput(dataTable, element);\n",
              "        const docLink = document.createElement('div');\n",
              "        docLink.innerHTML = docLinkHtml;\n",
              "        element.appendChild(docLink);\n",
              "      }\n",
              "    </script>\n",
              "  </div>\n",
              "\n",
              "\n",
              "<div id=\"df-0fa344e0-505c-4ade-a18d-6122c2cacc4b\">\n",
              "  <button class=\"colab-df-quickchart\" onclick=\"quickchart('df-0fa344e0-505c-4ade-a18d-6122c2cacc4b')\"\n",
              "            title=\"Suggest charts\"\n",
              "            style=\"display:none;\">\n",
              "\n",
              "<svg xmlns=\"http://www.w3.org/2000/svg\" height=\"24px\"viewBox=\"0 0 24 24\"\n",
              "     width=\"24px\">\n",
              "    <g>\n",
              "        <path d=\"M19 3H5c-1.1 0-2 .9-2 2v14c0 1.1.9 2 2 2h14c1.1 0 2-.9 2-2V5c0-1.1-.9-2-2-2zM9 17H7v-7h2v7zm4 0h-2V7h2v10zm4 0h-2v-4h2v4z\"/>\n",
              "    </g>\n",
              "</svg>\n",
              "  </button>\n",
              "\n",
              "<style>\n",
              "  .colab-df-quickchart {\n",
              "      --bg-color: #E8F0FE;\n",
              "      --fill-color: #1967D2;\n",
              "      --hover-bg-color: #E2EBFA;\n",
              "      --hover-fill-color: #174EA6;\n",
              "      --disabled-fill-color: #AAA;\n",
              "      --disabled-bg-color: #DDD;\n",
              "  }\n",
              "\n",
              "  [theme=dark] .colab-df-quickchart {\n",
              "      --bg-color: #3B4455;\n",
              "      --fill-color: #D2E3FC;\n",
              "      --hover-bg-color: #434B5C;\n",
              "      --hover-fill-color: #FFFFFF;\n",
              "      --disabled-bg-color: #3B4455;\n",
              "      --disabled-fill-color: #666;\n",
              "  }\n",
              "\n",
              "  .colab-df-quickchart {\n",
              "    background-color: var(--bg-color);\n",
              "    border: none;\n",
              "    border-radius: 50%;\n",
              "    cursor: pointer;\n",
              "    display: none;\n",
              "    fill: var(--fill-color);\n",
              "    height: 32px;\n",
              "    padding: 0;\n",
              "    width: 32px;\n",
              "  }\n",
              "\n",
              "  .colab-df-quickchart:hover {\n",
              "    background-color: var(--hover-bg-color);\n",
              "    box-shadow: 0 1px 2px rgba(60, 64, 67, 0.3), 0 1px 3px 1px rgba(60, 64, 67, 0.15);\n",
              "    fill: var(--button-hover-fill-color);\n",
              "  }\n",
              "\n",
              "  .colab-df-quickchart-complete:disabled,\n",
              "  .colab-df-quickchart-complete:disabled:hover {\n",
              "    background-color: var(--disabled-bg-color);\n",
              "    fill: var(--disabled-fill-color);\n",
              "    box-shadow: none;\n",
              "  }\n",
              "\n",
              "  .colab-df-spinner {\n",
              "    border: 2px solid var(--fill-color);\n",
              "    border-color: transparent;\n",
              "    border-bottom-color: var(--fill-color);\n",
              "    animation:\n",
              "      spin 1s steps(1) infinite;\n",
              "  }\n",
              "\n",
              "  @keyframes spin {\n",
              "    0% {\n",
              "      border-color: transparent;\n",
              "      border-bottom-color: var(--fill-color);\n",
              "      border-left-color: var(--fill-color);\n",
              "    }\n",
              "    20% {\n",
              "      border-color: transparent;\n",
              "      border-left-color: var(--fill-color);\n",
              "      border-top-color: var(--fill-color);\n",
              "    }\n",
              "    30% {\n",
              "      border-color: transparent;\n",
              "      border-left-color: var(--fill-color);\n",
              "      border-top-color: var(--fill-color);\n",
              "      border-right-color: var(--fill-color);\n",
              "    }\n",
              "    40% {\n",
              "      border-color: transparent;\n",
              "      border-right-color: var(--fill-color);\n",
              "      border-top-color: var(--fill-color);\n",
              "    }\n",
              "    60% {\n",
              "      border-color: transparent;\n",
              "      border-right-color: var(--fill-color);\n",
              "    }\n",
              "    80% {\n",
              "      border-color: transparent;\n",
              "      border-right-color: var(--fill-color);\n",
              "      border-bottom-color: var(--fill-color);\n",
              "    }\n",
              "    90% {\n",
              "      border-color: transparent;\n",
              "      border-bottom-color: var(--fill-color);\n",
              "    }\n",
              "  }\n",
              "</style>\n",
              "\n",
              "  <script>\n",
              "    async function quickchart(key) {\n",
              "      const quickchartButtonEl =\n",
              "        document.querySelector('#' + key + ' button');\n",
              "      quickchartButtonEl.disabled = true;  // To prevent multiple clicks.\n",
              "      quickchartButtonEl.classList.add('colab-df-spinner');\n",
              "      try {\n",
              "        const charts = await google.colab.kernel.invokeFunction(\n",
              "            'suggestCharts', [key], {});\n",
              "      } catch (error) {\n",
              "        console.error('Error during call to suggestCharts:', error);\n",
              "      }\n",
              "      quickchartButtonEl.classList.remove('colab-df-spinner');\n",
              "      quickchartButtonEl.classList.add('colab-df-quickchart-complete');\n",
              "    }\n",
              "    (() => {\n",
              "      let quickchartButtonEl =\n",
              "        document.querySelector('#df-0fa344e0-505c-4ade-a18d-6122c2cacc4b button');\n",
              "      quickchartButtonEl.style.display =\n",
              "        google.colab.kernel.accessAllowed ? 'block' : 'none';\n",
              "    })();\n",
              "  </script>\n",
              "</div>\n",
              "\n",
              "    </div>\n",
              "  </div>\n"
            ],
            "application/vnd.google.colaboratory.intrinsic+json": {
              "type": "dataframe",
              "variable_name": "data"
            }
          },
          "metadata": {},
          "execution_count": 7
        }
      ]
    },
    {
      "cell_type": "code",
      "source": [
        "data.columns"
      ],
      "metadata": {
        "colab": {
          "base_uri": "https://localhost:8080/"
        },
        "id": "s3PuDoDpBOKG",
        "outputId": "6d25cac8-9af5-4c32-db45-f083c45218ca"
      },
      "execution_count": 8,
      "outputs": [
        {
          "output_type": "execute_result",
          "data": {
            "text/plain": [
              "Index(['gdp', 'gdp_per_capita', 'gdp_growth', 'fertility', 'infant_mortality',\n",
              "       'sex_ratio', 'population', 'pop_growth', 'pop_density',\n",
              "       'urban_population', 'urban_population_growth', 'imports', 'exports',\n",
              "       'unemployment', 'employment_industry', 'employment_agriculture',\n",
              "       'employment_services', 'tourists', 'surface_area', 'forested_area',\n",
              "       'internet_users', 'homicide_rate', 'refugees', 'threatened_species',\n",
              "       'co2_emissions', 'life_expectancy_avg', 'primary_school_enrollment_avg',\n",
              "       'secondary_school_enrollment_avg', 'post_secondary_enrollment_avg',\n",
              "       'region_Central America', 'region_Central Asia',\n",
              "       'region_Eastern Africa', 'region_Eastern Asia', 'region_Eastern Europe',\n",
              "       'region_Middle Africa', 'region_Northern Africa',\n",
              "       'region_Northern America', 'region_Northern Europe', 'region_Oceania',\n",
              "       'region_South America', 'region_South-Eastern Asia',\n",
              "       'region_Southern Africa', 'region_Southern Asia',\n",
              "       'region_Southern Europe', 'region_Western Africa',\n",
              "       'region_Western Asia', 'region_Western Europe'],\n",
              "      dtype='object')"
            ]
          },
          "metadata": {},
          "execution_count": 8
        }
      ]
    },
    {
      "cell_type": "markdown",
      "source": [
        "**TRAIN AND TEST SPLIT**"
      ],
      "metadata": {
        "id": "YxrKi7DnBB7P"
      }
    },
    {
      "cell_type": "code",
      "source": [
        "data.shape"
      ],
      "metadata": {
        "colab": {
          "base_uri": "https://localhost:8080/"
        },
        "id": "RQ4ZiUOyBfkO",
        "outputId": "556beebb-80a1-4524-ff0a-1db06ba8eef0"
      },
      "execution_count": 9,
      "outputs": [
        {
          "output_type": "execute_result",
          "data": {
            "text/plain": [
              "(179, 47)"
            ]
          },
          "metadata": {},
          "execution_count": 9
        }
      ]
    },
    {
      "cell_type": "code",
      "source": [
        "# Split the data into features (X) and target (y)\n",
        "X = data.drop(columns=['life_expectancy_avg'])  # Features\n",
        "y = data['life_expectancy_avg']  # Target variable\n",
        "\n",
        "# Split the data into training and testing sets (80% train, 20% test)\n",
        "X_train, X_test, y_train, y_test = train_test_split(X, y, test_size=0.2, random_state=42)\n",
        "\n",
        "print(f\"Training set size: {X_train.shape[0]} rows\")\n",
        "print(f\"Testing set size: {X_test.shape[0]} rows\")"
      ],
      "metadata": {
        "colab": {
          "base_uri": "https://localhost:8080/"
        },
        "id": "ilrhNrVwAbWP",
        "outputId": "aa70431e-573a-4bca-aeeb-f05e1a3f25f4"
      },
      "execution_count": 10,
      "outputs": [
        {
          "output_type": "stream",
          "name": "stdout",
          "text": [
            "Training set size: 143 rows\n",
            "Testing set size: 36 rows\n"
          ]
        }
      ]
    },
    {
      "cell_type": "markdown",
      "source": [
        "# **STARTING WITH THE MODELING PROCESS**"
      ],
      "metadata": {
        "id": "Y8B7RrqZAdUo"
      }
    },
    {
      "cell_type": "markdown",
      "source": [
        "1. **Linear Regression Model**"
      ],
      "metadata": {
        "id": "3wBuaNA8AmaC"
      }
    },
    {
      "cell_type": "code",
      "source": [
        "# Initialize and train the Multiple Linear Regression model\n",
        "lr_model = LinearRegression()\n",
        "lr_model.fit(X_train, y_train)\n",
        "\n",
        "# Make predictions on the test set\n",
        "y_pred_lr = lr_model.predict(X_test)\n",
        "\n",
        "# Evaluate the model's performance\n",
        "mse_lr = mean_squared_error(y_test, y_pred_lr)\n",
        "rmse_lr = np.sqrt(mean_squared_error(y_test, y_pred_lr))\n",
        "r2_lr = r2_score(y_test, y_pred_lr)\n",
        "\n",
        "# Display evaluation metrics for Linear Regression\n",
        "print(f\"Mean Squared Error (MSE): {mse_lr}\")\n",
        "print(f\"Root Mean Squared Error (RMSE): {rmse_lr}\")\n",
        "print(f\"R-Squared (R²): {r2_lr}\")"
      ],
      "metadata": {
        "colab": {
          "base_uri": "https://localhost:8080/"
        },
        "id": "2NETE3KiAjLT",
        "outputId": "c62d8450-2f24-404d-d945-4c6467bd0670"
      },
      "execution_count": 11,
      "outputs": [
        {
          "output_type": "stream",
          "name": "stdout",
          "text": [
            "Mean Squared Error (MSE): 0.20093043031127414\n",
            "Root Mean Squared Error (RMSE): 0.4482526411648616\n",
            "R-Squared (R²): 0.8543317381885187\n"
          ]
        }
      ]
    },
    {
      "cell_type": "code",
      "source": [
        "# Scatter plot of actual vs predicted values\n",
        "plt.figure(figsize=(8, 6))\n",
        "plt.scatter(y_test, y_pred_lr, color='blue', alpha=0.6, label=\"Predicted values\")\n",
        "plt.plot([y_test.min(), y_test.max()], [y_test.min(), y_test.max()], color='red', linestyle='--', label=\"Ideal Prediction\")\n",
        "plt.xlabel('y_test values')\n",
        "plt.ylabel('y_pred_lr values')\n",
        "plt.title('Linear Regression: Actual vs Predicted Life Expectancy')\n",
        "plt.legend()\n",
        "plt.grid(True)\n",
        "plt.show()\n"
      ],
      "metadata": {
        "colab": {
          "base_uri": "https://localhost:8080/",
          "height": 564
        },
        "id": "7SunkD3UDF3J",
        "outputId": "b48af6e1-0289-4206-c381-b2c365129910"
      },
      "execution_count": 12,
      "outputs": [
        {
          "output_type": "display_data",
          "data": {
            "text/plain": [
              "<Figure size 800x600 with 1 Axes>"
            ],
            "image/png": "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\n"
          },
          "metadata": {}
        }
      ]
    },
    {
      "cell_type": "markdown",
      "source": [
        "As can be inferred from the R², 85% of the data variability can be explained by the regression model. RMSE of 0.44 also indicated a good fit (however, not a great fit).\n",
        "\n",
        "From the graph also, some of the points on the top right seem to be not in line with the regression model."
      ],
      "metadata": {
        "id": "Dl-zIkrDHnnx"
      }
    },
    {
      "cell_type": "markdown",
      "source": [
        "**Parameter Tunning using Lasso Linear Regression Model**"
      ],
      "metadata": {
        "id": "sr1clPjXJbI1"
      }
    },
    {
      "cell_type": "code",
      "source": [
        "# Set up Grid Search for Lasso\n",
        "lasso = Lasso()\n",
        "\n",
        "param_grid = {\n",
        "    'alpha': [0.001, 0.01, 0.1, 1, 10, 100]  # Explore different alpha values\n",
        "}\n",
        "lasso_cv = GridSearchCV(lasso, param_grid, cv=5, scoring='neg_mean_squared_error')\n",
        "\n",
        "# Fit the model\n",
        "lasso_cv.fit(X_train, y_train)\n",
        "\n",
        "# Best alpha value\n",
        "print(\"Best alpha for Lasso Regression:\", lasso_cv.best_params_)\n",
        "\n",
        "# Train the best Lasso model\n",
        "best_lasso = Lasso(alpha=lasso_cv.best_params_['alpha'])\n",
        "best_lasso.fit(X_train, y_train)\n",
        "\n",
        "# Make predictions\n",
        "y_pred_lasso = best_lasso.predict(X_test)\n",
        "\n",
        "# Evaluate Lasso Model\n",
        "mse_lasso = mean_squared_error(y_test, y_pred_lasso)\n",
        "rmse_lasso = np.sqrt(mse_lasso)\n",
        "r2_lasso = r2_score(y_test, y_pred_lasso)\n",
        "\n",
        "print(f\"Tuned Lasso Regression - MSE: {mse_lasso}\")\n",
        "print(f\"Tuned Lasso Regression - RMSE: {rmse_lasso}\")\n",
        "print(f\"Tuned Lasso Regression - R²: {r2_lasso}\")"
      ],
      "metadata": {
        "colab": {
          "base_uri": "https://localhost:8080/"
        },
        "id": "xiaUAIQug1es",
        "outputId": "5682ab0a-4e6d-4155-f272-b4f81df9f2d8"
      },
      "execution_count": 13,
      "outputs": [
        {
          "output_type": "stream",
          "name": "stdout",
          "text": [
            "Best alpha for Lasso Regression: {'alpha': 0.01}\n",
            "Tuned Lasso Regression - MSE: 0.14243053164725283\n",
            "Tuned Lasso Regression - RMSE: 0.3773996974657675\n",
            "Tuned Lasso Regression - R²: 0.8967423304583629\n"
          ]
        }
      ]
    },
    {
      "cell_type": "markdown",
      "source": [
        "**CONCLUSION:**\n",
        "\n",
        "Lasso Regression with α = 0.01 performed better than the original Linear Regression!\n",
        "\n",
        "**Lower MSE & RMSE**:  The error decreased (from 0.4483 to 0.3774 RMSE), meaning that the Lasso model has performed better and made more accurate predictions.\n",
        "**Higher R²**:The explained variance increased (from 0.8543 to 0.8967), meaning the model is capturing more of the data’s patterns and 89.67% of the variations in the data can be explained by the model.\n",
        "\n"
      ],
      "metadata": {
        "id": "Pq6qIUd2hdEL"
      }
    },
    {
      "cell_type": "code",
      "source": [
        "y_pred_lasso = best_lasso.predict(X_test)\n",
        "\n",
        "# Create scatter plot\n",
        "plt.figure(figsize=(8, 6))\n",
        "plt.scatter(y_test, y_pred_lasso, color='blue', alpha=0.6, label='Predicted vs Actual')\n",
        "plt.plot([y_test.min(), y_test.max()], [y_test.min(), y_test.max()], color='red', linestyle='--', label='Ideal Fit')\n",
        "plt.xlabel('Actual Life Expectancy')\n",
        "plt.ylabel('Predicted Life Expectancy')\n",
        "plt.title('Lasso Regression - Predicted vs Actual Life Expectancy')\n",
        "plt.legend()\n",
        "plt.grid(True)\n",
        "plt.show()"
      ],
      "metadata": {
        "colab": {
          "base_uri": "https://localhost:8080/",
          "height": 564
        },
        "id": "kiI_HgZzJYpJ",
        "outputId": "26ac597b-7859-48fb-c87c-4a65e3db4049"
      },
      "execution_count": 14,
      "outputs": [
        {
          "output_type": "display_data",
          "data": {
            "text/plain": [
              "<Figure size 800x600 with 1 Axes>"
            ],
            "image/png": "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\n"
          },
          "metadata": {}
        }
      ]
    },
    {
      "cell_type": "code",
      "source": [],
      "metadata": {
        "id": "4xIoAHVpJYsN"
      },
      "execution_count": 14,
      "outputs": []
    },
    {
      "cell_type": "code",
      "source": [],
      "metadata": {
        "id": "I2x4Z_eYJYu5"
      },
      "execution_count": 14,
      "outputs": []
    },
    {
      "cell_type": "markdown",
      "source": [
        "2. **Random Forest Regressor Model**"
      ],
      "metadata": {
        "id": "9QBn6WKMIvys"
      }
    },
    {
      "cell_type": "code",
      "source": [
        "# Initialize the Random Forest Regressor\n",
        "rf = RandomForestRegressor(n_estimators=300, random_state=1, n_jobs=-1)\n",
        "\n",
        "# Train the model\n",
        "model_res = rf.fit(X_train, y_train)\n",
        "\n",
        "# Make predictions\n",
        "y_pred = model_res.predict(X_test)\n",
        "\n",
        "# Evaluate the model\n",
        "\n",
        "mse = mean_squared_error(y_test, y_pred)\n",
        "rmse = np.sqrt(mse)\n",
        "r2 = r2_score(y_test, y_pred)\n",
        "\n",
        "# Print evaluation metrics\n",
        "print(f\"Mean Squared Error (MSE): {mse}\")\n",
        "print(f\"Root Mean Squared Error (RMSE): {rmse}\")\n",
        "print(f\"R-Squared (R²): {r2}\")\n"
      ],
      "metadata": {
        "colab": {
          "base_uri": "https://localhost:8080/"
        },
        "id": "luCfRalRFZBu",
        "outputId": "c8d141b6-d90e-4b88-b333-d4cb40e3e5b0"
      },
      "execution_count": 15,
      "outputs": [
        {
          "output_type": "stream",
          "name": "stdout",
          "text": [
            "Mean Squared Error (MSE): 0.1479658628287132\n",
            "Root Mean Squared Error (RMSE): 0.38466331099899975\n",
            "R-Squared (R²): 0.892729388911853\n"
          ]
        }
      ]
    },
    {
      "cell_type": "markdown",
      "source": [
        "The results for Lasso Regression Model to compare:\n",
        "1. Mean Squared Error (MSE): 0.14243053164725283\n",
        "2. Root Mean Squared Error (RMSE): 0.3773996974657675\n",
        "3. R-Squared (R²): 0.8967423304583629\n",
        "\n",
        "It can be concluded that although the difference is not significant, the Lasso Regressor seems to model the data slightly better. The difference is so little that the performnace can be concluded to be similar."
      ],
      "metadata": {
        "id": "nnE0zLjZIAw4"
      }
    },
    {
      "cell_type": "markdown",
      "source": [
        "**Hyperparameter Tuning Using RandomizedSearchCV**"
      ],
      "metadata": {
        "id": "311pxrl3I9np"
      }
    },
    {
      "cell_type": "code",
      "source": [
        "\n",
        "# Define the parameter grid\n",
        "param_grid = {\n",
        "    'n_estimators': [100, 200, 300, 500],  # Number of trees\n",
        "    'max_depth': [10, 20, 30, None],  # Maximum depth of trees\n",
        "    'min_samples_split': [2, 5, 10],  # Min samples to split a node\n",
        "    'min_samples_leaf': [1, 2, 4],  # Min samples in a leaf node\n",
        "}\n",
        "\n",
        "# Initialize the model\n",
        "rf = RandomForestRegressor(random_state=42, n_jobs=-1)\n",
        "\n",
        "# Perform Randomized Search\n",
        "rf_random = RandomizedSearchCV(\n",
        "    estimator=rf,\n",
        "    param_distributions=param_grid,\n",
        "    n_iter=20,  # Number of different combinations to try\n",
        "    cv=5,  # 5-fold cross-validation\n",
        "    verbose=2,\n",
        "    random_state=42,\n",
        "    n_jobs=-1\n",
        ")\n",
        "\n",
        "# Fit the model\n",
        "rf_random.fit(X_train, y_train)\n",
        "\n",
        "# Print the best parameters\n",
        "print(\"Best Parameters:\", rf_random.best_params_)\n",
        "\n"
      ],
      "metadata": {
        "colab": {
          "base_uri": "https://localhost:8080/"
        },
        "id": "5ZVkHSTMIYJC",
        "outputId": "1bd6c184-e492-443e-b0f7-a478f2d9cbba"
      },
      "execution_count": 16,
      "outputs": [
        {
          "output_type": "stream",
          "name": "stdout",
          "text": [
            "Fitting 5 folds for each of 20 candidates, totalling 100 fits\n",
            "Best Parameters: {'n_estimators': 200, 'min_samples_split': 2, 'min_samples_leaf': 1, 'max_depth': 30}\n"
          ]
        }
      ]
    },
    {
      "cell_type": "code",
      "source": [
        "# Train the model with the best parameters\n",
        "best_rf = RandomForestRegressor(n_estimators=200, min_samples_split=2, min_samples_leaf=1, max_depth=30, random_state=42)\n",
        "best_rf.fit(X_train, y_train)\n",
        "\n",
        "# Make predictions\n",
        "y_pred_rf = best_rf.predict(X_test)\n",
        "\n",
        "# Evaluate performance\n",
        "\n",
        "mse = mean_squared_error(y_test, y_pred_rf)\n",
        "rmse = np.sqrt(mse)\n",
        "r2 = r2_score(y_test, y_pred_rf)\n",
        "\n",
        "print(f\"Tuned Random Forest - MSE: {mse}\")\n",
        "print(f\"Tuned Random Forest - RMSE: {rmse}\")\n",
        "print(f\"Tuned Random Forest - R²: {r2}\")"
      ],
      "metadata": {
        "colab": {
          "base_uri": "https://localhost:8080/"
        },
        "id": "ylLH1HTPJUdW",
        "outputId": "96cd9ebc-49aa-46b6-b2cc-a3e7b39b6f94"
      },
      "execution_count": 17,
      "outputs": [
        {
          "output_type": "stream",
          "name": "stdout",
          "text": [
            "Tuned Random Forest - MSE: 0.15360297502755266\n",
            "Tuned Random Forest - RMSE: 0.3919221542954068\n",
            "Tuned Random Forest - R²: 0.8886426593190823\n"
          ]
        }
      ]
    },
    {
      "cell_type": "markdown",
      "source": [
        "Random Forest without tuning results:\n",
        "1. Mean Squared Error (MSE): 0.1479658628287132\n",
        "2. Root Mean Squared Error (RMSE): 0.38466331099899975\n",
        "3. R-Squared (R²): 0.892729388911853\n",
        "\n",
        "Looks like tuning made the results worse. So the original Random Forest Regressor is what I would stick to."
      ],
      "metadata": {
        "id": "clKID0fcLXQF"
      }
    },
    {
      "cell_type": "code",
      "source": [
        "plt.figure(figsize=(8, 6))\n",
        "plt.scatter(y_test, y_pred, color='blue', alpha=0.6, label=\"Predicted values\")\n",
        "plt.plot([y_test.min(), y_test.max()], [y_test.min(), y_test.max()], color='red', linestyle='--', label=\"Ideal Prediction\")\n",
        "plt.xlabel('y_test values')\n",
        "plt.ylabel('y_pred values')\n",
        "plt.title('Random Forest Regressor: Actual vs Predicted Life Expectancy')\n",
        "plt.legend()\n",
        "plt.grid(True)\n",
        "plt.show()"
      ],
      "metadata": {
        "colab": {
          "base_uri": "https://localhost:8080/",
          "height": 564
        },
        "id": "TWUS9TkwMB9V",
        "outputId": "d64c8d71-2726-49c5-8e17-d4a23ca714bb"
      },
      "execution_count": 18,
      "outputs": [
        {
          "output_type": "display_data",
          "data": {
            "text/plain": [
              "<Figure size 800x600 with 1 Axes>"
            ],
            "image/png": "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\n"
          },
          "metadata": {}
        }
      ]
    },
    {
      "cell_type": "code",
      "source": [],
      "metadata": {
        "id": "keD5DwV_lDbx"
      },
      "execution_count": 18,
      "outputs": []
    },
    {
      "cell_type": "markdown",
      "source": [
        "**3. XGBOOST Model**"
      ],
      "metadata": {
        "id": "AwV0e_9OMDLw"
      }
    },
    {
      "cell_type": "code",
      "source": [
        "# Initialize XGBoost Regressor\n",
        "xgb_model = XGBRegressor(n_estimators=100, learning_rate=0.1, random_state=1)\n",
        "\n",
        "# Train the model\n",
        "xgb_model.fit(X_train, y_train)\n",
        "\n",
        "# Make predictions\n",
        "y_pred_xgb = xgb_model.predict(X_test)\n",
        "\n",
        "# Evaluate the model\n",
        "mse_xgb = mean_squared_error(y_test, y_pred_xgb)\n",
        "rmse_xgb = mse_xgb ** 0.5\n",
        "r2_xgb = r2_score(y_test, y_pred_xgb)\n",
        "\n",
        "# Print results\n",
        "print(f\"XGBoost Regression - MSE: {mse_xgb}\")\n",
        "print(f\"XGBoost Regression - RMSE: {rmse_xgb}\")\n",
        "print(f\"XGBoost Regression - R²: {r2_xgb}\")"
      ],
      "metadata": {
        "id": "CfBvnLwbMLnL",
        "colab": {
          "base_uri": "https://localhost:8080/"
        },
        "outputId": "8656de02-0022-42d9-95f0-f288f102ad4e"
      },
      "execution_count": 19,
      "outputs": [
        {
          "output_type": "stream",
          "name": "stdout",
          "text": [
            "XGBoost Regression - MSE: 0.1643573573171305\n",
            "XGBoost Regression - RMSE: 0.405410110033199\n",
            "XGBoost Regression - R²: 0.8808460693622893\n"
          ]
        }
      ]
    },
    {
      "cell_type": "markdown",
      "source": [
        "**Tuned Lasso Regression Results:**\n",
        "1. MSE: 0.14243053164725283\n",
        "2. RMSE: 0.3773996974657675\n",
        "3.  R²: 0.8967423304583629\n",
        "\n",
        "**Random Forest Model Results:**\n",
        "1. Mean Squared Error (MSE): 0.1479658628287132\n",
        "2. Root Mean Squared Error (RMSE): 0.38466331099899975\n",
        "3. R-Squared (R²): 0.892729388911853\n",
        "\n",
        "XGBOOST seems to not have improved the modeling performance in comparison with the above two models."
      ],
      "metadata": {
        "id": "qYn1Uf8qmHqH"
      }
    },
    {
      "cell_type": "markdown",
      "source": [
        "**XGBOOST HYPERPARAMETER TUNING**"
      ],
      "metadata": {
        "id": "9bebufb9mwyV"
      }
    },
    {
      "cell_type": "code",
      "source": [
        "# Define the parameter grid for tuning\n",
        "param_grid = {\n",
        "    'n_estimators': [100, 300, 500],\n",
        "    'learning_rate': [0.01, 0.1, 0.2],\n",
        "    'max_depth': [3, 5, 7],\n",
        "    'subsample': [0.8, 1.0],\n",
        "    'colsample_bytree': [0.8, 1.0]\n",
        "}\n",
        "\n"
      ],
      "metadata": {
        "id": "jEdYmubvme40"
      },
      "execution_count": 20,
      "outputs": []
    },
    {
      "cell_type": "markdown",
      "source": [
        "**GRID SEARCH**"
      ],
      "metadata": {
        "id": "8Ia8A3h1nRXz"
      }
    },
    {
      "cell_type": "code",
      "source": [
        "# Initialize XGBoost Regressor\n",
        "xgb = XGBRegressor(random_state=1)\n",
        "\n",
        "# Use GridSearchCV for hyperparameter tuning\n",
        "grid_search = GridSearchCV(\n",
        "    estimator=xgb,\n",
        "    param_grid=param_grid,\n",
        "    cv=5,\n",
        "    scoring='neg_mean_squared_error',\n",
        "    n_jobs=-1,\n",
        "    verbose=2\n",
        ")\n",
        "\n",
        "# Fit the model\n",
        "grid_search.fit(X_train, y_train)\n",
        "\n",
        "# Get the best parameters\n",
        "best_params = grid_search.best_params_\n",
        "print(\"Best parameters:\", best_params)"
      ],
      "metadata": {
        "colab": {
          "base_uri": "https://localhost:8080/"
        },
        "id": "fhi6vm_knONE",
        "outputId": "e36c8df8-40c4-49d3-d25c-e842ac8bc8ab"
      },
      "execution_count": 21,
      "outputs": [
        {
          "output_type": "stream",
          "name": "stdout",
          "text": [
            "Fitting 5 folds for each of 108 candidates, totalling 540 fits\n",
            "Best parameters: {'colsample_bytree': 1.0, 'learning_rate': 0.1, 'max_depth': 3, 'n_estimators': 500, 'subsample': 0.8}\n"
          ]
        }
      ]
    },
    {
      "cell_type": "code",
      "source": [
        "# Train XGBoost with best found parameters\n",
        "xgb_best = XGBRegressor(**best_params, random_state=1)\n",
        "xgb_best.fit(X_train, y_train)\n",
        "\n",
        "# Make predictions\n",
        "y_pred_xgb_best = xgb_best.predict(X_test)\n",
        "\n",
        "# Evaluate the tuned model\n",
        "mse_xgb_best = mean_squared_error(y_test, y_pred_xgb_best)\n",
        "rmse_xgb_best = mse_xgb_best ** 0.5\n",
        "r2_xgb_best = r2_score(y_test, y_pred_xgb_best)\n",
        "\n",
        "# Print results\n",
        "print(f\"Tuned XGBoost - MSE: {mse_xgb_best}\")\n",
        "print(f\"Tuned XGBoost - RMSE: {rmse_xgb_best}\")\n",
        "print(f\"Tuned XGBoost - R²: {r2_xgb_best}\")"
      ],
      "metadata": {
        "colab": {
          "base_uri": "https://localhost:8080/"
        },
        "id": "uCvaZZr9ncLf",
        "outputId": "625992f0-3618-42f5-d0bc-2c5cb9189086"
      },
      "execution_count": 25,
      "outputs": [
        {
          "output_type": "stream",
          "name": "stdout",
          "text": [
            "Tuned XGBoost - MSE: 0.1465327639342685\n",
            "Tuned XGBoost - RMSE: 0.3827959821292127\n",
            "Tuned XGBoost - R²: 0.893768340675577\n"
          ]
        }
      ]
    },
    {
      "cell_type": "markdown",
      "source": [
        "**CONCLUSION:**\n",
        "1. **Lasso Regression** performed the best overall, having the lowest MSE & RMSE and the highest R² score (0.8967).\n",
        "2. **XGBoost** is the second best, with slightly worse performance than Lasso but it is a very close second.\n",
        "3. **Random Forest** had the weakest performance among the three, with the highest MSE and lowest R².\n",
        "\n",
        "\n",
        "Although the performance of Lasso Regression is the best, but it is worth nothing that the three model performances are closely comparable.\n"
      ],
      "metadata": {
        "id": "totaQm-Hrz4Q"
      }
    },
    {
      "cell_type": "code",
      "source": [],
      "metadata": {
        "id": "ndk_jNtPsTqx"
      },
      "execution_count": null,
      "outputs": []
    }
  ]
}
